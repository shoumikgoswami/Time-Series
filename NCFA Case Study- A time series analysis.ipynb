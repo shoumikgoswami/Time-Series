{
 "cells": [
  {
   "cell_type": "markdown",
   "metadata": {},
   "source": [
    "### National Cotton Fabric Association: Prediction of Quantity Demanded\n",
    "\n",
    "The case study describes the problem of decline in production and sales of domestic cotton fabric. The board members presented the following reasons:\n",
    "\n",
    "1. large increases in the volume of imported fabric on the market.\n",
    "2. use of other fabrics by clothing manufacturers.\n",
    "3. popularity of fabrics that require little or no ironing and involve easier care.\n",
    "\n",
    "The following questions are required to be answered by analysing the data:\n",
    "\n",
    "1. What has been the pattern of prices, production quantity, imported fabric quantity, and exported fabric quantity over the recent past?\n",
    "2. What is the effect of price on the quantity of fabric produced?\n",
    "3. Given the relationship of quantity versus price, what additional changes in production quantity are related to imports and to exports? \n",
    "4. Given the NCFA's interest in maximizing total revenue, and working from recent experience, what price should be used?"
   ]
  },
  {
   "cell_type": "markdown",
   "metadata": {},
   "source": [
    "###### Importing the packages"
   ]
  },
  {
   "cell_type": "code",
   "execution_count": 2,
   "metadata": {},
   "outputs": [
    {
     "name": "stderr",
     "output_type": "stream",
     "text": [
      "Loading required package: fma\n",
      "Loading required package: expsmooth\n",
      "Loading required package: lmtest\n",
      "Loading required package: zoo\n",
      "\n",
      "Attaching package: 'zoo'\n",
      "\n",
      "The following objects are masked from 'package:base':\n",
      "\n",
      "    as.Date, as.Date.numeric\n",
      "\n",
      "Loading required package: tseries\n"
     ]
    }
   ],
   "source": [
    "library(forecast)\n",
    "library(fpp)\n",
    "library(TTR)"
   ]
  },
  {
   "cell_type": "markdown",
   "metadata": {},
   "source": [
    "##### Importing the dataset"
   ]
  },
  {
   "cell_type": "code",
   "execution_count": 3,
   "metadata": {
    "collapsed": true
   },
   "outputs": [],
   "source": [
    "cotton <- read.csv(\"COTTON.csv\")"
   ]
  },
  {
   "cell_type": "markdown",
   "metadata": {},
   "source": [
    "###### Summaries\n",
    "Let us take a look at the dataset"
   ]
  },
  {
   "cell_type": "code",
   "execution_count": 4,
   "metadata": {},
   "outputs": [
    {
     "data": {
      "text/html": [
       "<table>\n",
       "<thead><tr><th scope=col>QUARTER</th><th scope=col>YEAR</th><th scope=col>COTTONQ</th><th scope=col>WHOPRICE</th><th scope=col>IMPFAB</th><th scope=col>EXPFAB</th><th scope=col>TIME</th></tr></thead>\n",
       "<tbody>\n",
       "\t<tr><td>1    </td><td>66   </td><td>2274 </td><td>98.0 </td><td> 9.3 </td><td>256.0</td><td>1    </td></tr>\n",
       "\t<tr><td>2    </td><td>66   </td><td>2287 </td><td>98.1 </td><td> 3.7 </td><td>189.0</td><td>2    </td></tr>\n",
       "\t<tr><td>3    </td><td>66   </td><td>2083 </td><td>98.4 </td><td>16.0 </td><td>277.0</td><td>3    </td></tr>\n",
       "\t<tr><td>4    </td><td>66   </td><td>2181 </td><td>98.7 </td><td> 4.7 </td><td>477.0</td><td>4    </td></tr>\n",
       "\t<tr><td>1    </td><td>67   </td><td>2221 </td><td>99.3 </td><td> 5.7 </td><td>439.0</td><td>5    </td></tr>\n",
       "\t<tr><td>2    </td><td>67   </td><td>2131 </td><td>99.5 </td><td> 8.3 </td><td>334.3</td><td>6    </td></tr>\n",
       "</tbody>\n",
       "</table>\n"
      ],
      "text/latex": [
       "\\begin{tabular}{r|lllllll}\n",
       " QUARTER & YEAR & COTTONQ & WHOPRICE & IMPFAB & EXPFAB & TIME\\\\\n",
       "\\hline\n",
       "\t 1     & 66    & 2274  & 98.0  &  9.3  & 256.0 & 1    \\\\\n",
       "\t 2     & 66    & 2287  & 98.1  &  3.7  & 189.0 & 2    \\\\\n",
       "\t 3     & 66    & 2083  & 98.4  & 16.0  & 277.0 & 3    \\\\\n",
       "\t 4     & 66    & 2181  & 98.7  &  4.7  & 477.0 & 4    \\\\\n",
       "\t 1     & 67    & 2221  & 99.3  &  5.7  & 439.0 & 5    \\\\\n",
       "\t 2     & 67    & 2131  & 99.5  &  8.3  & 334.3 & 6    \\\\\n",
       "\\end{tabular}\n"
      ],
      "text/markdown": [
       "\n",
       "QUARTER | YEAR | COTTONQ | WHOPRICE | IMPFAB | EXPFAB | TIME | \n",
       "|---|---|---|---|---|---|\n",
       "| 1     | 66    | 2274  | 98.0  |  9.3  | 256.0 | 1     | \n",
       "| 2     | 66    | 2287  | 98.1  |  3.7  | 189.0 | 2     | \n",
       "| 3     | 66    | 2083  | 98.4  | 16.0  | 277.0 | 3     | \n",
       "| 4     | 66    | 2181  | 98.7  |  4.7  | 477.0 | 4     | \n",
       "| 1     | 67    | 2221  | 99.3  |  5.7  | 439.0 | 5     | \n",
       "| 2     | 67    | 2131  | 99.5  |  8.3  | 334.3 | 6     | \n",
       "\n",
       "\n"
      ],
      "text/plain": [
       "  QUARTER YEAR COTTONQ WHOPRICE IMPFAB EXPFAB TIME\n",
       "1 1       66   2274    98.0      9.3   256.0  1   \n",
       "2 2       66   2287    98.1      3.7   189.0  2   \n",
       "3 3       66   2083    98.4     16.0   277.0  3   \n",
       "4 4       66   2181    98.7      4.7   477.0  4   \n",
       "5 1       67   2221    99.3      5.7   439.0  5   \n",
       "6 2       67   2131    99.5      8.3   334.3  6   "
      ]
     },
     "metadata": {},
     "output_type": "display_data"
    }
   ],
   "source": [
    "head(cotton)"
   ]
  },
  {
   "cell_type": "code",
   "execution_count": 5,
   "metadata": {},
   "outputs": [
    {
     "data": {
      "text/plain": [
       "    QUARTER          YEAR       COTTONQ        WHOPRICE         IMPFAB      \n",
       " Min.   :1.00   Min.   :66   Min.   :1277   Min.   : 98.0   Min.   : 1.300  \n",
       " 1st Qu.:1.75   1st Qu.:67   1st Qu.:1552   1st Qu.:100.8   1st Qu.: 2.925  \n",
       " Median :2.50   Median :69   Median :1762   Median :107.4   Median : 4.850  \n",
       " Mean   :2.50   Mean   :69   Mean   :1780   Mean   :106.8   Mean   : 7.525  \n",
       " 3rd Qu.:3.25   3rd Qu.:71   3rd Qu.:2035   3rd Qu.:112.2   3rd Qu.: 8.550  \n",
       " Max.   :4.00   Max.   :72   Max.   :2287   Max.   :115.8   Max.   :27.000  \n",
       "     EXPFAB           TIME      \n",
       " Min.   : 80.0   Min.   : 1.00  \n",
       " 1st Qu.:193.5   1st Qu.: 7.75  \n",
       " Median :277.1   Median :14.50  \n",
       " Mean   :274.0   Mean   :14.50  \n",
       " 3rd Qu.:356.2   3rd Qu.:21.25  \n",
       " Max.   :477.0   Max.   :28.00  "
      ]
     },
     "metadata": {},
     "output_type": "display_data"
    }
   ],
   "source": [
    "summary(cotton)"
   ]
  },
  {
   "cell_type": "markdown",
   "metadata": {},
   "source": [
    "The dataset contains the following:\n",
    "1. **No. of observations:** 28\n",
    "2. **Year:** Year for the observation (Range: 1966-1972)\n",
    "3. **Quater:** Quarter for the observation (Range: 1-4)\n",
    "4. **Cotprod:** Total Cotton production (in million lb) (Range: 1277-2287)\n",
    "5. **Whoprice:** Wholesale price for cotton($ per lb) (Range: 98-115.8) \n",
    "6. **Import:** Quantity of cotton fabric imported (in million lb) (Range: 1.3-27)\n",
    "7. **Export:** Quantity of cotton fabric exported (in million lb) (Range: 80-477)\n",
    "8. **Time:** UID for observations (Range: 1-28)    "
   ]
  },
  {
   "cell_type": "code",
   "execution_count": 6,
   "metadata": {},
   "outputs": [
    {
     "data": {
      "text/html": [
       "<ol class=list-inline>\n",
       "\t<li>'QUARTER'</li>\n",
       "\t<li>'YEAR'</li>\n",
       "\t<li>'COTTONQ'</li>\n",
       "\t<li>'WHOPRICE'</li>\n",
       "\t<li>'IMPFAB'</li>\n",
       "\t<li>'EXPFAB'</li>\n",
       "\t<li>'TIME'</li>\n",
       "</ol>\n"
      ],
      "text/latex": [
       "\\begin{enumerate*}\n",
       "\\item 'QUARTER'\n",
       "\\item 'YEAR'\n",
       "\\item 'COTTONQ'\n",
       "\\item 'WHOPRICE'\n",
       "\\item 'IMPFAB'\n",
       "\\item 'EXPFAB'\n",
       "\\item 'TIME'\n",
       "\\end{enumerate*}\n"
      ],
      "text/markdown": [
       "1. 'QUARTER'\n",
       "2. 'YEAR'\n",
       "3. 'COTTONQ'\n",
       "4. 'WHOPRICE'\n",
       "5. 'IMPFAB'\n",
       "6. 'EXPFAB'\n",
       "7. 'TIME'\n",
       "\n",
       "\n"
      ],
      "text/plain": [
       "[1] \"QUARTER\"  \"YEAR\"     \"COTTONQ\"  \"WHOPRICE\" \"IMPFAB\"   \"EXPFAB\"   \"TIME\"    "
      ]
     },
     "metadata": {},
     "output_type": "display_data"
    }
   ],
   "source": [
    "## column names\n",
    "names(cotton)"
   ]
  },
  {
   "cell_type": "markdown",
   "metadata": {},
   "source": [
    "##### Time series variables\n",
    "\n",
    "Now let's separate the columns into individual variables and create time-series objects"
   ]
  },
  {
   "cell_type": "code",
   "execution_count": 7,
   "metadata": {
    "collapsed": true
   },
   "outputs": [],
   "source": [
    "cotq<-cotton$COTTONQ\n",
    "prc<-cotton$WHOPRICE\n",
    "impr<-cotton$IMPFAB\n",
    "expr<-cotton$EXPFAB"
   ]
  },
  {
   "cell_type": "markdown",
   "metadata": {},
   "source": [
    "Converting into time-series objects of 4 cycles:"
   ]
  },
  {
   "cell_type": "code",
   "execution_count": 8,
   "metadata": {
    "collapsed": true
   },
   "outputs": [],
   "source": [
    "prcts<-ts(prc, start=c(1966, 1), end=c(1972, 4), frequency=4)\n",
    "cotqts <- ts(cotq, start=c(1966, 1), end=c(1972, 4), frequency=4)\n",
    "imprts<-ts(impr, start=c(1966, 1), end=c(1972, 4), frequency=4)\n",
    "exprts<-ts(expr, start=c(1966, 1), end=c(1972, 4), frequency=4)"
   ]
  },
  {
   "cell_type": "markdown",
   "metadata": {},
   "source": [
    "We now plot the variables and check if any trend or seasonality is present in the data"
   ]
  },
  {
   "cell_type": "code",
   "execution_count": 9,
   "metadata": {},
   "outputs": [
    {
     "data": {
      "image/png": "[encoded data removed]",
      "text/plain": [
       "plot without title"
      ]
     },
     "metadata": {},
     "output_type": "display_data"
    }
   ],
   "source": [
    "## Plotting the price\n",
    "plot(prcts)"
   ]
  },
  {
   "cell_type": "markdown",
   "metadata": {},
   "source": [
    "We do not observe any trend or seasonality in the Price variable. We can see occasioanl piece-wise linear trends between 1968-1969 and 1970-1971."
   ]
  },
  {
   "cell_type": "code",
   "execution_count": 10,
   "metadata": {},
   "outputs": [
    {
     "data": {
      "image/png": "[encoded data removed]",
      "text/plain": [
       "plot without title"
      ]
     },
     "metadata": {},
     "output_type": "display_data"
    }
   ],
   "source": [
    "## Plotting Cotton quantity\n",
    "plot(cotqts)"
   ]
  },
  {
   "cell_type": "markdown",
   "metadata": {},
   "source": [
    "No clear trend or seasonality can be observed for the quantity of cotton."
   ]
  },
  {
   "cell_type": "code",
   "execution_count": 11,
   "metadata": {},
   "outputs": [
    {
     "data": {
      "image/png": "[encoded data removed]",
      "text/plain": [
       "plot without title"
      ]
     },
     "metadata": {},
     "output_type": "display_data"
    }
   ],
   "source": [
    "## Plotting the imports\n",
    "plot(imprts)"
   ]
  },
  {
   "cell_type": "markdown",
   "metadata": {},
   "source": [
    "No trend or seasonality can be observed for imports"
   ]
  },
  {
   "cell_type": "code",
   "execution_count": 12,
   "metadata": {},
   "outputs": [
    {
     "data": {
      "image/png": "[encoded data removed]",
      "text/plain": [
       "plot without title"
      ]
     },
     "metadata": {},
     "output_type": "display_data"
    }
   ],
   "source": [
    "## Plotting for exports\n",
    "plot(exprts)"
   ]
  },
  {
   "cell_type": "markdown",
   "metadata": {},
   "source": [
    "No trend or seasonality can be observed for exports"
   ]
  },
  {
   "cell_type": "markdown",
   "metadata": {},
   "source": [
    "##### Scatterplot: Cotton Production Quantity vs Wholesale price\n",
    "\n",
    "Let us create a scatterplot between quantity of cotton produced to its wholesale price to understand it's relationship"
   ]
  },
  {
   "cell_type": "code",
   "execution_count": 13,
   "metadata": {
    "scrolled": true
   },
   "outputs": [
    {
     "data": {
      "image/png": "[encoded data removed]",
      "text/plain": [
       "plot without title"
      ]
     },
     "metadata": {},
     "output_type": "display_data"
    }
   ],
   "source": [
    "plot(prc~cotq, data=cotton, xlab=\"Quantity of cotton\", ylab=\"Wholesale price\")"
   ]
  },
  {
   "cell_type": "markdown",
   "metadata": {},
   "source": [
    "We observe that the wholesale price of cotton and quantity of cotton produced are negatively related and there is a clear downtrend. As the quantity of cotton produced increases, the wholesale price decreases and vice-versa."
   ]
  },
  {
   "cell_type": "markdown",
   "metadata": {
    "collapsed": true
   },
   "source": [
    "###### Simple least squares regression\n",
    "\n",
    "In order to understand the relationship between quantity and price we use a simple least squares regression."
   ]
  },
  {
   "cell_type": "code",
   "execution_count": 14,
   "metadata": {},
   "outputs": [
    {
     "data": {
      "text/plain": [
       "\n",
       "Call:\n",
       "lm(formula = prc ~ cotq, data = cotton)\n",
       "\n",
       "Coefficients:\n",
       "(Intercept)         cotq  \n",
       "  142.39806     -0.01999  \n"
      ]
     },
     "metadata": {},
     "output_type": "display_data"
    }
   ],
   "source": [
    "reg <- lm(prc~cotq, data=cotton)\n",
    "reg"
   ]
  },
  {
   "cell_type": "markdown",
   "metadata": {},
   "source": [
    "From the regression, we have the following relationship:\n",
    "\n",
    "P(Wholesale) = -0.01999*Q(Cotton) + 142.3981"
   ]
  },
  {
   "cell_type": "markdown",
   "metadata": {},
   "source": [
    "Now we shall check the regression line"
   ]
  },
  {
   "cell_type": "code",
   "execution_count": 15,
   "metadata": {},
   "outputs": [
    {
     "data": {
      "image/png": "[encoded data removed]",
      "text/plain": [
       "plot without title"
      ]
     },
     "metadata": {},
     "output_type": "display_data"
    }
   ],
   "source": [
    "plot(cotq,prc, xlab=\"Quantity of Cotton\", ylab=\"Wholesale price\")\n",
    "abline(coefficients(reg))"
   ]
  },
  {
   "cell_type": "code",
   "execution_count": 16,
   "metadata": {},
   "outputs": [
    {
     "data": {
      "text/plain": [
       "\n",
       "Call:\n",
       "lm(formula = prc ~ cotq, data = cotton)\n",
       "\n",
       "Residuals:\n",
       "    Min      1Q  Median      3Q     Max \n",
       "-4.2900 -1.0750  0.2803  1.3291  4.1905 \n",
       "\n",
       "Coefficients:\n",
       "              Estimate Std. Error t value Pr(>|t|)    \n",
       "(Intercept) 142.398062   2.326525   61.21  < 2e-16 ***\n",
       "cotq         -0.019994   0.001291  -15.49 1.21e-14 ***\n",
       "---\n",
       "Signif. codes:  0 '***' 0.001 '**' 0.01 '*' 0.05 '.' 0.1 ' ' 1\n",
       "\n",
       "Residual standard error: 1.948 on 26 degrees of freedom\n",
       "Multiple R-squared:  0.9022,\tAdjusted R-squared:  0.8985 \n",
       "F-statistic: 239.9 on 1 and 26 DF,  p-value: 1.212e-14\n"
      ]
     },
     "metadata": {},
     "output_type": "display_data"
    }
   ],
   "source": [
    "summary(reg)"
   ]
  },
  {
   "cell_type": "markdown",
   "metadata": {},
   "source": [
    "We have a good R-squared score of 90.22% which denotes a good fit. Now we shall plot the residuals versus the predicted cotton production."
   ]
  },
  {
   "cell_type": "code",
   "execution_count": 17,
   "metadata": {},
   "outputs": [
    {
     "data": {
      "text/html": [
       "<table>\n",
       "<thead><tr><th scope=col>QUARTER</th><th scope=col>YEAR</th><th scope=col>COTTONQ</th><th scope=col>WHOPRICE</th><th scope=col>IMPFAB</th><th scope=col>EXPFAB</th><th scope=col>TIME</th><th scope=col>predicted</th><th scope=col>residuals</th></tr></thead>\n",
       "<tbody>\n",
       "\t<tr><td>1         </td><td>66        </td><td>2274      </td><td>98.0      </td><td> 9.3      </td><td>256.0     </td><td>1         </td><td> 96.93240 </td><td> 1.0675973</td></tr>\n",
       "\t<tr><td>2         </td><td>66        </td><td>2287      </td><td>98.1      </td><td> 3.7      </td><td>189.0     </td><td>2         </td><td> 96.67248 </td><td> 1.4275153</td></tr>\n",
       "\t<tr><td>3         </td><td>66        </td><td>2083      </td><td>98.4      </td><td>16.0      </td><td>277.0     </td><td>3         </td><td>100.75120 </td><td>-2.3511982</td></tr>\n",
       "\t<tr><td>4         </td><td>66        </td><td>2181      </td><td>98.7      </td><td> 4.7      </td><td>477.0     </td><td>4         </td><td> 98.79182 </td><td>-0.0918162</td></tr>\n",
       "\t<tr><td>1         </td><td>67        </td><td>2221      </td><td>99.3      </td><td> 5.7      </td><td>439.0     </td><td>5         </td><td> 97.99207 </td><td> 1.3079315</td></tr>\n",
       "\t<tr><td>2         </td><td>67        </td><td>2131      </td><td>99.5      </td><td> 8.3      </td><td>334.3     </td><td>6         </td><td> 99.79150 </td><td>-0.2915009</td></tr>\n",
       "</tbody>\n",
       "</table>\n"
      ],
      "text/latex": [
       "\\begin{tabular}{r|lllllllll}\n",
       " QUARTER & YEAR & COTTONQ & WHOPRICE & IMPFAB & EXPFAB & TIME & predicted & residuals\\\\\n",
       "\\hline\n",
       "\t 1          & 66         & 2274       & 98.0       &  9.3       & 256.0      & 1          &  96.93240  &  1.0675973\\\\\n",
       "\t 2          & 66         & 2287       & 98.1       &  3.7       & 189.0      & 2          &  96.67248  &  1.4275153\\\\\n",
       "\t 3          & 66         & 2083       & 98.4       & 16.0       & 277.0      & 3          & 100.75120  & -2.3511982\\\\\n",
       "\t 4          & 66         & 2181       & 98.7       &  4.7       & 477.0      & 4          &  98.79182  & -0.0918162\\\\\n",
       "\t 1          & 67         & 2221       & 99.3       &  5.7       & 439.0      & 5          &  97.99207  &  1.3079315\\\\\n",
       "\t 2          & 67         & 2131       & 99.5       &  8.3       & 334.3      & 6          &  99.79150  & -0.2915009\\\\\n",
       "\\end{tabular}\n"
      ],
      "text/markdown": [
       "\n",
       "QUARTER | YEAR | COTTONQ | WHOPRICE | IMPFAB | EXPFAB | TIME | predicted | residuals | \n",
       "|---|---|---|---|---|---|\n",
       "| 1          | 66         | 2274       | 98.0       |  9.3       | 256.0      | 1          |  96.93240  |  1.0675973 | \n",
       "| 2          | 66         | 2287       | 98.1       |  3.7       | 189.0      | 2          |  96.67248  |  1.4275153 | \n",
       "| 3          | 66         | 2083       | 98.4       | 16.0       | 277.0      | 3          | 100.75120  | -2.3511982 | \n",
       "| 4          | 66         | 2181       | 98.7       |  4.7       | 477.0      | 4          |  98.79182  | -0.0918162 | \n",
       "| 1          | 67         | 2221       | 99.3       |  5.7       | 439.0      | 5          |  97.99207  |  1.3079315 | \n",
       "| 2          | 67         | 2131       | 99.5       |  8.3       | 334.3      | 6          |  99.79150  | -0.2915009 | \n",
       "\n",
       "\n"
      ],
      "text/plain": [
       "  QUARTER YEAR COTTONQ WHOPRICE IMPFAB EXPFAB TIME predicted residuals \n",
       "1 1       66   2274    98.0      9.3   256.0  1     96.93240  1.0675973\n",
       "2 2       66   2287    98.1      3.7   189.0  2     96.67248  1.4275153\n",
       "3 3       66   2083    98.4     16.0   277.0  3    100.75120 -2.3511982\n",
       "4 4       66   2181    98.7      4.7   477.0  4     98.79182 -0.0918162\n",
       "5 1       67   2221    99.3      5.7   439.0  5     97.99207  1.3079315\n",
       "6 2       67   2131    99.5      8.3   334.3  6     99.79150 -0.2915009"
      ]
     },
     "metadata": {},
     "output_type": "display_data"
    }
   ],
   "source": [
    "## Obtaining the predicted values\n",
    "cotton$predicted <- predict(reg)\n",
    "## Obtaining the residual values\n",
    "cotton$residuals <- residuals(reg) \n",
    "head(cotton)"
   ]
  },
  {
   "cell_type": "code",
   "execution_count": 18,
   "metadata": {
    "scrolled": true
   },
   "outputs": [
    {
     "name": "stderr",
     "output_type": "stream",
     "text": [
      "Loading required package: ggplot2\n"
     ]
    },
    {
     "data": {},
     "metadata": {},
     "output_type": "display_data"
    },
    {
     "data": {
      "image/png": "[encoded data removed]",
      "text/plain": [
       "plot without title"
      ]
     },
     "metadata": {},
     "output_type": "display_data"
    }
   ],
   "source": [
    "## Plotting the actual, predicted and residuals\n",
    "require(ggplot2)\n",
    "p1 <- ggplot(cotton, aes(x= cotq, y = prc))\n",
    "p1 <- p1 + geom_point() + geom_smooth(method=\"lm\", se= FALSE, color = \"lightgrey\")\n",
    "\n",
    "# Adding the predicted values\n",
    "p1 <- p1 + geom_point(aes(y=predicted), shape=1)\n",
    "\n",
    "# Connecting the datapoints with their predicted values\n",
    "p1 <- p1 + geom_segment(aes(xend = cotq, yend= predicted), alpha = 0.2)\n",
    "p1 <- p1 + theme_bw()\n",
    "\n",
    "# Adding color and size depending on residuals\n",
    "p1 <- p1 + geom_point(aes(color = abs(residuals), size = abs(residuals))) + scale_color_continuous(low=\"black\", high = \"red\")\n",
    "p1 <- p1 + guides(color = FALSE, size = FALSE)\n",
    "p1"
   ]
  },
  {
   "cell_type": "markdown",
   "metadata": {},
   "source": [
    "##### Total Revenue\n",
    "\n",
    "We compute total revenue using quantity and wholesale price"
   ]
  },
  {
   "cell_type": "code",
   "execution_count": 19,
   "metadata": {},
   "outputs": [
    {
     "data": {
      "text/html": [
       "<table>\n",
       "<thead><tr><th scope=col>QUARTER</th><th scope=col>YEAR</th><th scope=col>COTTONQ</th><th scope=col>WHOPRICE</th><th scope=col>IMPFAB</th><th scope=col>EXPFAB</th><th scope=col>TIME</th><th scope=col>predicted</th><th scope=col>residuals</th><th scope=col>REVENUE</th></tr></thead>\n",
       "<tbody>\n",
       "\t<tr><td>1         </td><td>66        </td><td>2274      </td><td>98.0      </td><td> 9.3      </td><td>256.0     </td><td>1         </td><td> 96.93240 </td><td> 1.0675973</td><td>222852.0  </td></tr>\n",
       "\t<tr><td>2         </td><td>66        </td><td>2287      </td><td>98.1      </td><td> 3.7      </td><td>189.0     </td><td>2         </td><td> 96.67248 </td><td> 1.4275153</td><td>224354.7  </td></tr>\n",
       "\t<tr><td>3         </td><td>66        </td><td>2083      </td><td>98.4      </td><td>16.0      </td><td>277.0     </td><td>3         </td><td>100.75120 </td><td>-2.3511982</td><td>204967.2  </td></tr>\n",
       "\t<tr><td>4         </td><td>66        </td><td>2181      </td><td>98.7      </td><td> 4.7      </td><td>477.0     </td><td>4         </td><td> 98.79182 </td><td>-0.0918162</td><td>215264.7  </td></tr>\n",
       "\t<tr><td>1         </td><td>67        </td><td>2221      </td><td>99.3      </td><td> 5.7      </td><td>439.0     </td><td>5         </td><td> 97.99207 </td><td> 1.3079315</td><td>220545.3  </td></tr>\n",
       "\t<tr><td>2         </td><td>67        </td><td>2131      </td><td>99.5      </td><td> 8.3      </td><td>334.3     </td><td>6         </td><td> 99.79150 </td><td>-0.2915009</td><td>212034.5  </td></tr>\n",
       "</tbody>\n",
       "</table>\n"
      ],
      "text/latex": [
       "\\begin{tabular}{r|llllllllll}\n",
       " QUARTER & YEAR & COTTONQ & WHOPRICE & IMPFAB & EXPFAB & TIME & predicted & residuals & REVENUE\\\\\n",
       "\\hline\n",
       "\t 1          & 66         & 2274       & 98.0       &  9.3       & 256.0      & 1          &  96.93240  &  1.0675973 & 222852.0  \\\\\n",
       "\t 2          & 66         & 2287       & 98.1       &  3.7       & 189.0      & 2          &  96.67248  &  1.4275153 & 224354.7  \\\\\n",
       "\t 3          & 66         & 2083       & 98.4       & 16.0       & 277.0      & 3          & 100.75120  & -2.3511982 & 204967.2  \\\\\n",
       "\t 4          & 66         & 2181       & 98.7       &  4.7       & 477.0      & 4          &  98.79182  & -0.0918162 & 215264.7  \\\\\n",
       "\t 1          & 67         & 2221       & 99.3       &  5.7       & 439.0      & 5          &  97.99207  &  1.3079315 & 220545.3  \\\\\n",
       "\t 2          & 67         & 2131       & 99.5       &  8.3       & 334.3      & 6          &  99.79150  & -0.2915009 & 212034.5  \\\\\n",
       "\\end{tabular}\n"
      ],
      "text/markdown": [
       "\n",
       "QUARTER | YEAR | COTTONQ | WHOPRICE | IMPFAB | EXPFAB | TIME | predicted | residuals | REVENUE | \n",
       "|---|---|---|---|---|---|\n",
       "| 1          | 66         | 2274       | 98.0       |  9.3       | 256.0      | 1          |  96.93240  |  1.0675973 | 222852.0   | \n",
       "| 2          | 66         | 2287       | 98.1       |  3.7       | 189.0      | 2          |  96.67248  |  1.4275153 | 224354.7   | \n",
       "| 3          | 66         | 2083       | 98.4       | 16.0       | 277.0      | 3          | 100.75120  | -2.3511982 | 204967.2   | \n",
       "| 4          | 66         | 2181       | 98.7       |  4.7       | 477.0      | 4          |  98.79182  | -0.0918162 | 215264.7   | \n",
       "| 1          | 67         | 2221       | 99.3       |  5.7       | 439.0      | 5          |  97.99207  |  1.3079315 | 220545.3   | \n",
       "| 2          | 67         | 2131       | 99.5       |  8.3       | 334.3      | 6          |  99.79150  | -0.2915009 | 212034.5   | \n",
       "\n",
       "\n"
      ],
      "text/plain": [
       "  QUARTER YEAR COTTONQ WHOPRICE IMPFAB EXPFAB TIME predicted residuals \n",
       "1 1       66   2274    98.0      9.3   256.0  1     96.93240  1.0675973\n",
       "2 2       66   2287    98.1      3.7   189.0  2     96.67248  1.4275153\n",
       "3 3       66   2083    98.4     16.0   277.0  3    100.75120 -2.3511982\n",
       "4 4       66   2181    98.7      4.7   477.0  4     98.79182 -0.0918162\n",
       "5 1       67   2221    99.3      5.7   439.0  5     97.99207  1.3079315\n",
       "6 2       67   2131    99.5      8.3   334.3  6     99.79150 -0.2915009\n",
       "  REVENUE \n",
       "1 222852.0\n",
       "2 224354.7\n",
       "3 204967.2\n",
       "4 215264.7\n",
       "5 220545.3\n",
       "6 212034.5"
      ]
     },
     "metadata": {},
     "output_type": "display_data"
    }
   ],
   "source": [
    "for(i in 1:nrow(cotton)){\n",
    "    cotton$REVENUE[i] <- cotton$COTTONQ[i] * cotton$WHOPRICE[i]\n",
    "}\n",
    "head(cotton)"
   ]
  },
  {
   "cell_type": "code",
   "execution_count": 20,
   "metadata": {
    "scrolled": true
   },
   "outputs": [
    {
     "data": {
      "image/png": "[encoded data removed]",
      "text/plain": [
       "plot without title"
      ]
     },
     "metadata": {},
     "output_type": "display_data"
    }
   ],
   "source": [
    "## Plotting Total revenue vs price\n",
    "plot(REVENUE~WHOPRICE, data= cotton)\n",
    "text(cotton$WHOPRICE, cotton$REVENUE, labels = cotton$WHOPRICE, cex= 0.9)"
   ]
  },
  {
   "cell_type": "markdown",
   "metadata": {},
   "source": [
    "We observe that the total revenue and wholesale price are negatively related to each other. Also, we have the highest revenue for wholesale price = 98.1"
   ]
  },
  {
   "cell_type": "markdown",
   "metadata": {
    "collapsed": true
   },
   "source": [
    "###### Finding the global maximum total revenue\n",
    "\n",
    "In order to find the correct relationship between wholesale price and total revenue, we do an experiment and try to find the best possible model fit by increasing the order of the equation."
   ]
  },
  {
   "cell_type": "code",
   "execution_count": 21,
   "metadata": {},
   "outputs": [
    {
     "data": {
      "text/plain": [
       "\n",
       "Call:\n",
       "lm(formula = REVENUE ~ WHOPRICE, data = cotton)\n",
       "\n",
       "Residuals:\n",
       "   Min     1Q Median     3Q    Max \n",
       "-18874  -6447   2023   6090  22108 \n",
       "\n",
       "Coefficients:\n",
       "            Estimate Std. Error t value Pr(>|t|)    \n",
       "(Intercept) 509017.0    32647.3  15.591 1.04e-14 ***\n",
       "WHOPRICE     -3000.9      305.2  -9.834 3.00e-10 ***\n",
       "---\n",
       "Signif. codes:  0 '***' 0.001 '**' 0.01 '*' 0.05 '.' 0.1 ' ' 1\n",
       "\n",
       "Residual standard error: 9694 on 26 degrees of freedom\n",
       "Multiple R-squared:  0.7881,\tAdjusted R-squared:   0.78 \n",
       "F-statistic:  96.7 on 1 and 26 DF,  p-value: 3.002e-10\n"
      ]
     },
     "metadata": {},
     "output_type": "display_data"
    }
   ],
   "source": [
    "rev1 = lm(REVENUE~WHOPRICE, data= cotton)\n",
    "summary(rev1)"
   ]
  },
  {
   "cell_type": "markdown",
   "metadata": {},
   "source": [
    "We have a model fit score of 78%. Let us increase the order of the equation."
   ]
  },
  {
   "cell_type": "code",
   "execution_count": 22,
   "metadata": {},
   "outputs": [
    {
     "data": {
      "text/plain": [
       "\n",
       "Call:\n",
       "lm(formula = REVENUE ~ poly(WHOPRICE, 2, raw = TRUE), data = cotton)\n",
       "\n",
       "Residuals:\n",
       "   Min     1Q Median     3Q    Max \n",
       "-18439  -6128   1813   6129  22414 \n",
       "\n",
       "Coefficients:\n",
       "                                Estimate Std. Error t value Pr(>|t|)\n",
       "(Intercept)                    673660.83  811755.51   0.830    0.414\n",
       "poly(WHOPRICE, 2, raw = TRUE)1  -6102.54   15282.48  -0.399    0.693\n",
       "poly(WHOPRICE, 2, raw = TRUE)2     14.56      71.73   0.203    0.841\n",
       "\n",
       "Residual standard error: 9878 on 25 degrees of freedom\n",
       "Multiple R-squared:  0.7885,\tAdjusted R-squared:  0.7715 \n",
       "F-statistic: 46.59 on 2 and 25 DF,  p-value: 3.694e-09\n"
      ]
     },
     "metadata": {},
     "output_type": "display_data"
    }
   ],
   "source": [
    "rev2 = lm(REVENUE~poly(WHOPRICE,2, raw=TRUE), data= cotton)\n",
    "summary(rev2)"
   ]
  },
  {
   "cell_type": "markdown",
   "metadata": {},
   "source": [
    "We have a model fit score of 77.15%. Let us increase the order."
   ]
  },
  {
   "cell_type": "code",
   "execution_count": 23,
   "metadata": {},
   "outputs": [
    {
     "data": {
      "text/plain": [
       "\n",
       "Call:\n",
       "lm(formula = REVENUE ~ poly(WHOPRICE, 3, raw = TRUE), data = cotton)\n",
       "\n",
       "Residuals:\n",
       "   Min     1Q Median     3Q    Max \n",
       "-16736  -4772   3416   5076  18246 \n",
       "\n",
       "Coefficients:\n",
       "                                 Estimate Std. Error t value Pr(>|t|)  \n",
       "(Intercept)                     3.851e+07  1.772e+07   2.173   0.0399 *\n",
       "poly(WHOPRICE, 3, raw = TRUE)1 -1.073e+06  4.994e+05  -2.148   0.0420 *\n",
       "poly(WHOPRICE, 3, raw = TRUE)2  1.002e+04  4.684e+03   2.140   0.0427 *\n",
       "poly(WHOPRICE, 3, raw = TRUE)3 -3.125e+01  1.463e+01  -2.137   0.0430 *\n",
       "---\n",
       "Signif. codes:  0 '***' 0.001 '**' 0.01 '*' 0.05 '.' 0.1 ' ' 1\n",
       "\n",
       "Residual standard error: 9241 on 24 degrees of freedom\n",
       "Multiple R-squared:  0.8223,\tAdjusted R-squared:  0.8001 \n",
       "F-statistic: 37.01 on 3 and 24 DF,  p-value: 3.659e-09\n"
      ]
     },
     "metadata": {},
     "output_type": "display_data"
    }
   ],
   "source": [
    "rev3 = lm(REVENUE~poly(WHOPRICE,3, raw=TRUE), data= cotton)\n",
    "summary(rev3)"
   ]
  },
  {
   "cell_type": "markdown",
   "metadata": {},
   "source": [
    "We have a model fit score of 80%. Let us increase the order."
   ]
  },
  {
   "cell_type": "code",
   "execution_count": 24,
   "metadata": {},
   "outputs": [
    {
     "data": {
      "text/plain": [
       "\n",
       "Call:\n",
       "lm(formula = REVENUE ~ poly(WHOPRICE, 4, raw = TRUE), data = cotton)\n",
       "\n",
       "Residuals:\n",
       "   Min     1Q Median     3Q    Max \n",
       "-16782  -4866   3306   5047  18248 \n",
       "\n",
       "Coefficients:\n",
       "                                 Estimate Std. Error t value Pr(>|t|)\n",
       "(Intercept)                     1.199e+07  4.204e+08   0.029    0.977\n",
       "poly(WHOPRICE, 4, raw = TRUE)1 -7.672e+04  1.578e+07  -0.005    0.996\n",
       "poly(WHOPRICE, 4, raw = TRUE)2 -3.991e+03  2.220e+05  -0.018    0.986\n",
       "poly(WHOPRICE, 4, raw = TRUE)3  5.628e+01  1.386e+03   0.041    0.968\n",
       "poly(WHOPRICE, 4, raw = TRUE)4 -2.048e-01  3.243e+00  -0.063    0.950\n",
       "\n",
       "Residual standard error: 9439 on 23 degrees of freedom\n",
       "Multiple R-squared:  0.8223,\tAdjusted R-squared:  0.7914 \n",
       "F-statistic: 26.61 on 4 and 23 DF,  p-value: 2.459e-08\n"
      ]
     },
     "metadata": {},
     "output_type": "display_data"
    }
   ],
   "source": [
    "rev4 = lm(REVENUE~poly(WHOPRICE,4, raw=TRUE), data= cotton)\n",
    "summary(rev4)"
   ]
  },
  {
   "cell_type": "markdown",
   "metadata": {},
   "source": [
    "We have a model fit score of 79.14%.\n",
    "\n",
    "Therefore we can conclude that our required model is **rev3**\n",
    "\n",
    "Let us plot the equation."
   ]
  },
  {
   "cell_type": "code",
   "execution_count": 25,
   "metadata": {
    "scrolled": false
   },
   "outputs": [
    {
     "data": {
      "image/png": "[encoded data removed]",
      "text/plain": [
       "Plot with title \"\""
      ]
     },
     "metadata": {},
     "output_type": "display_data"
    },
    {
     "data": {
      "image/png": "[encoded data removed]",
      "text/plain": [
       "Plot with title \"\""
      ]
     },
     "metadata": {},
     "output_type": "display_data"
    },
    {
     "data": {
      "image/png": "[encoded data removed]",
      "text/plain": [
       "Plot with title \"\""
      ]
     },
     "metadata": {},
     "output_type": "display_data"
    },
    {
     "data": {
      "image/png": "[encoded data removed]",
      "text/plain": [
       "Plot with title \"\""
      ]
     },
     "metadata": {},
     "output_type": "display_data"
    }
   ],
   "source": [
    "plot(rev3)"
   ]
  },
  {
   "cell_type": "markdown",
   "metadata": {},
   "source": [
    "##### Modelling\n",
    "\n",
    "We create a model for quantity as a function of price, imports and exports and forecast the new production quantity."
   ]
  },
  {
   "cell_type": "code",
   "execution_count": 26,
   "metadata": {},
   "outputs": [
    {
     "data": {
      "text/plain": [
       "\n",
       "Call:\n",
       "lm(formula = COTTONQ ~ WHOPRICE + IMPFAB + EXPFAB, data = cotton)\n",
       "\n",
       "Residuals:\n",
       "    Min      1Q  Median      3Q     Max \n",
       "-115.48  -64.96  -14.81   60.65  167.95 \n",
       "\n",
       "Coefficients:\n",
       "             Estimate Std. Error t value Pr(>|t|)    \n",
       "(Intercept) 6757.0093   322.1569  20.974  < 2e-16 ***\n",
       "WHOPRICE     -46.9564     2.8354 -16.561 1.23e-14 ***\n",
       "IMPFAB        -6.5175     2.3056  -2.827  0.00933 ** \n",
       "EXPFAB         0.3190     0.1471   2.169  0.04021 *  \n",
       "---\n",
       "Signif. codes:  0 '***' 0.001 '**' 0.01 '*' 0.05 '.' 0.1 ' ' 1\n",
       "\n",
       "Residual standard error: 78.7 on 24 degrees of freedom\n",
       "Multiple R-squared:  0.9347,\tAdjusted R-squared:  0.9266 \n",
       "F-statistic: 114.6 on 3 and 24 DF,  p-value: 2.331e-14\n"
      ]
     },
     "metadata": {},
     "output_type": "display_data"
    }
   ],
   "source": [
    "t <- c(1:28)\n",
    "prclinfit <- lm(COTTONQ~WHOPRICE + IMPFAB + EXPFAB, data=cotton)\n",
    "summary(prclinfit)"
   ]
  },
  {
   "cell_type": "markdown",
   "metadata": {},
   "source": [
    "We have a model fit of 92.66% which is a good fit. Let us check the correlation to see the changes in the variables wrt each other.\n",
    "1. We observe that cotton quantity is negatively related to quatity of imports. If the quantity of cotton produced increases by 1 unit, the quantity of cotton imports decreases by a factor of 6.5 considering other factors to be constant.\n",
    "2. We observe that cotton quantity is positively related to quatity of exports. If the quantity of cotton produced increases by 1 unit, the quantity of cotton exports increases by a factor of 0.32 considering other factors to be constant."
   ]
  }
 ],
 "metadata": {
  "kernelspec": {
   "display_name": "R",
   "language": "R",
   "name": "ir"
  },
  "language_info": {
   "codemirror_mode": "r",
   "file_extension": ".r",
   "mimetype": "text/x-r-source",
   "name": "R",
   "pygments_lexer": "r",
   "version": "3.4.1"
  }
 },
 "nbformat": 4,
 "nbformat_minor": 2
}
